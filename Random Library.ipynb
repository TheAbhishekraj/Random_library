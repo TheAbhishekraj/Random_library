{
 "cells": [
  {
   "cell_type": "code",
   "execution_count": 1,
   "id": "570ed6a6",
   "metadata": {},
   "outputs": [],
   "source": [
    "import random"
   ]
  },
  {
   "cell_type": "markdown",
   "id": "5b83018c",
   "metadata": {},
   "source": [
    "# seed()\n",
    "\n",
    "The seed method is used to initialize the random number generator."
   ]
  },
  {
   "cell_type": "code",
   "execution_count": 8,
   "id": "7626e6e9",
   "metadata": {},
   "outputs": [
    {
     "data": {
      "text/plain": [
       "0.13436424411240122"
      ]
     },
     "execution_count": 8,
     "metadata": {},
     "output_type": "execute_result"
    }
   ],
   "source": [
    "random.seed(1)\n",
    "random.random()"
   ]
  },
  {
   "cell_type": "markdown",
   "id": "16e7054b",
   "metadata": {},
   "source": [
    "# Setting the seed to a number will always return the same random number:"
   ]
  },
  {
   "cell_type": "code",
   "execution_count": 6,
   "id": "eaeeb4ed",
   "metadata": {},
   "outputs": [
    {
     "data": {
      "text/plain": [
       "0.13436424411240122"
      ]
     },
     "execution_count": 6,
     "metadata": {},
     "output_type": "execute_result"
    }
   ],
   "source": [
    "random.seed(1)\n",
    "random.random()"
   ]
  },
  {
   "cell_type": "markdown",
   "id": "068b0230",
   "metadata": {},
   "source": [
    "The default value of the seed method is the current system time, that is why we always get a different number:"
   ]
  },
  {
   "cell_type": "code",
   "execution_count": 9,
   "id": "e18b739e",
   "metadata": {},
   "outputs": [
    {
     "data": {
      "text/plain": [
       "0.8474337369372327"
      ]
     },
     "execution_count": 9,
     "metadata": {},
     "output_type": "execute_result"
    }
   ],
   "source": [
    " random.random()"
   ]
  },
  {
   "cell_type": "code",
   "execution_count": 10,
   "id": "2e6c5d61",
   "metadata": {},
   "outputs": [
    {
     "data": {
      "text/plain": [
       "0.763774618976614"
      ]
     },
     "execution_count": 10,
     "metadata": {},
     "output_type": "execute_result"
    }
   ],
   "source": [
    " random.random()"
   ]
  },
  {
   "cell_type": "code",
   "execution_count": 11,
   "id": "46ce475f",
   "metadata": {},
   "outputs": [
    {
     "data": {
      "text/plain": [
       "0.2550690257394217"
      ]
     },
     "execution_count": 11,
     "metadata": {},
     "output_type": "execute_result"
    }
   ],
   "source": [
    " random.random()"
   ]
  },
  {
   "cell_type": "markdown",
   "id": "a1e25772",
   "metadata": {},
   "source": [
    "randint()\n",
    "random.randint(start: int, stop: int)"
   ]
  },
  {
   "cell_type": "code",
   "execution_count": 16,
   "id": "13b1732f",
   "metadata": {},
   "outputs": [
    {
     "data": {
      "text/plain": [
       "4"
      ]
     },
     "execution_count": 16,
     "metadata": {},
     "output_type": "execute_result"
    }
   ],
   "source": [
    "random.randint(1, 5)"
   ]
  },
  {
   "cell_type": "code",
   "execution_count": 17,
   "id": "dac36444",
   "metadata": {},
   "outputs": [
    {
     "data": {
      "text/plain": [
       "2"
      ]
     },
     "execution_count": 17,
     "metadata": {},
     "output_type": "execute_result"
    }
   ],
   "source": [
    "random.randint(1, 5)"
   ]
  },
  {
   "cell_type": "code",
   "execution_count": 18,
   "id": "181756f9",
   "metadata": {},
   "outputs": [
    {
     "data": {
      "text/plain": [
       "1"
      ]
     },
     "execution_count": 18,
     "metadata": {},
     "output_type": "execute_result"
    }
   ],
   "source": [
    "random.randint(1, 5)\n"
   ]
  },
  {
   "cell_type": "markdown",
   "id": "f526eb4a",
   "metadata": {},
   "source": [
    "# choice()\n",
    "The choice method return a randomly selected element from an iterable, like a list, set or str:"
   ]
  },
  {
   "cell_type": "code",
   "execution_count": 19,
   "id": "9c2560d1",
   "metadata": {},
   "outputs": [
    {
     "data": {
      "text/plain": [
       "4"
      ]
     },
     "execution_count": 19,
     "metadata": {},
     "output_type": "execute_result"
    }
   ],
   "source": [
    "random.choice([1, 2, 3, 4])\n"
   ]
  },
  {
   "cell_type": "code",
   "execution_count": 20,
   "id": "21b62198",
   "metadata": {},
   "outputs": [
    {
     "data": {
      "text/plain": [
       "1"
      ]
     },
     "execution_count": 20,
     "metadata": {},
     "output_type": "execute_result"
    }
   ],
   "source": [
    "random.choice([1, 2, 3, 4])\n"
   ]
  },
  {
   "cell_type": "code",
   "execution_count": 24,
   "id": "efe0e42c",
   "metadata": {},
   "outputs": [
    {
     "data": {
      "text/plain": [
       "4"
      ]
     },
     "execution_count": 24,
     "metadata": {},
     "output_type": "execute_result"
    }
   ],
   "source": [
    "random.choice([1, 2, 3, 4])\n"
   ]
  },
  {
   "cell_type": "markdown",
   "id": "f6401b28",
   "metadata": {},
   "source": [
    "# shuffle()\n",
    "The shuffle method takes in an iterable and shuffle it:"
   ]
  },
  {
   "cell_type": "code",
   "execution_count": 27,
   "id": "909f8e1e",
   "metadata": {},
   "outputs": [
    {
     "data": {
      "text/plain": [
       "[2, 3, 4, 1]"
      ]
     },
     "execution_count": 27,
     "metadata": {},
     "output_type": "execute_result"
    }
   ],
   "source": [
    "my_list = [1, 2, 3, 4]\n",
    "random.shuffle(my_list)\n",
    "my_list\n"
   ]
  },
  {
   "cell_type": "code",
   "execution_count": 28,
   "id": "ae8772c5",
   "metadata": {},
   "outputs": [
    {
     "data": {
      "text/plain": [
       "[3, 2, 4, 1]"
      ]
     },
     "execution_count": 28,
     "metadata": {},
     "output_type": "execute_result"
    }
   ],
   "source": [
    "random.shuffle(my_list)\n",
    "my_list"
   ]
  },
  {
   "cell_type": "markdown",
   "id": "b0803bbc",
   "metadata": {},
   "source": [
    "# sample()\n",
    "random.sample(iterable, k: int)"
   ]
  },
  {
   "cell_type": "code",
   "execution_count": 30,
   "id": "8fd28a40",
   "metadata": {},
   "outputs": [
    {
     "data": {
      "text/plain": [
       "[4]"
      ]
     },
     "execution_count": 30,
     "metadata": {},
     "output_type": "execute_result"
    }
   ],
   "source": [
    "random.sample([1, 2, 3, 4], 1)"
   ]
  },
  {
   "cell_type": "code",
   "execution_count": 31,
   "id": "0a112862",
   "metadata": {},
   "outputs": [
    {
     "data": {
      "text/plain": [
       "[1, 3, 4]"
      ]
     },
     "execution_count": 31,
     "metadata": {},
     "output_type": "execute_result"
    }
   ],
   "source": [
    "random.sample([1, 2, 3, 4], 3)"
   ]
  },
  {
   "cell_type": "code",
   "execution_count": 32,
   "id": "3e67720d",
   "metadata": {},
   "outputs": [
    {
     "data": {
      "text/plain": [
       "[4, 2]"
      ]
     },
     "execution_count": 32,
     "metadata": {},
     "output_type": "execute_result"
    }
   ],
   "source": [
    "random.sample([1, 2, 3, 4], 2)"
   ]
  },
  {
   "cell_type": "markdown",
   "id": "614646e9",
   "metadata": {},
   "source": [
    "# random()\n",
    "The random method returns a random floating point number between 0.0 and 1.0:\n"
   ]
  },
  {
   "cell_type": "code",
   "execution_count": 33,
   "id": "880fab52",
   "metadata": {},
   "outputs": [
    {
     "data": {
      "text/plain": [
       "0.5528595762929651"
      ]
     },
     "execution_count": 33,
     "metadata": {},
     "output_type": "execute_result"
    }
   ],
   "source": [
    "random.random()"
   ]
  },
  {
   "cell_type": "code",
   "execution_count": 34,
   "id": "5ce487d6",
   "metadata": {},
   "outputs": [
    {
     "data": {
      "text/plain": [
       "0.34570041470875246"
      ]
     },
     "execution_count": 34,
     "metadata": {},
     "output_type": "execute_result"
    }
   ],
   "source": [
    "random.random()"
   ]
  },
  {
   "cell_type": "code",
   "execution_count": null,
   "id": "1cbf9f52",
   "metadata": {},
   "outputs": [],
   "source": [
    "# uniform()\n",
    "the uniform method is similar to randint, but return a floating point number:\n"
   ]
  },
  {
   "cell_type": "code",
   "execution_count": 35,
   "id": "b6932dc6",
   "metadata": {},
   "outputs": [
    {
     "data": {
      "text/plain": [
       "3.7073941593998976"
      ]
     },
     "execution_count": 35,
     "metadata": {},
     "output_type": "execute_result"
    }
   ],
   "source": [
    " random.uniform(1, 5)"
   ]
  },
  {
   "cell_type": "code",
   "execution_count": 36,
   "id": "112b096a",
   "metadata": {},
   "outputs": [
    {
     "data": {
      "text/plain": [
       "4.043790950167282"
      ]
     },
     "execution_count": 36,
     "metadata": {},
     "output_type": "execute_result"
    }
   ],
   "source": [
    " random.uniform(1, 5)"
   ]
  },
  {
   "cell_type": "code",
   "execution_count": null,
   "id": "79423736",
   "metadata": {},
   "outputs": [],
   "source": []
  }
 ],
 "metadata": {
  "kernelspec": {
   "display_name": "Python 3 (ipykernel)",
   "language": "python",
   "name": "python3"
  },
  "language_info": {
   "codemirror_mode": {
    "name": "ipython",
    "version": 3
   },
   "file_extension": ".py",
   "mimetype": "text/x-python",
   "name": "python",
   "nbconvert_exporter": "python",
   "pygments_lexer": "ipython3",
   "version": "3.10.7"
  }
 },
 "nbformat": 4,
 "nbformat_minor": 5
}
